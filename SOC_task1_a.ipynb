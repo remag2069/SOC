{
  "nbformat": 4,
  "nbformat_minor": 0,
  "metadata": {
    "colab": {
      "name": "SOC_task1_a.ipynb",
      "provenance": [],
      "collapsed_sections": []
    },
    "kernelspec": {
      "name": "python3",
      "display_name": "Python 3"
    }
  },
  "cells": [
    {
      "cell_type": "markdown",
      "metadata": {
        "id": "g1XAQQRZbKgK",
        "colab_type": "text"
      },
      "source": [
        "# **Sequential network on Mnist**"
      ]
    },
    {
      "cell_type": "code",
      "metadata": {
        "id": "nzCUOJbX0BR-",
        "colab_type": "code",
        "outputId": "36f1f576-e761-4955-aba6-dbc20de96485",
        "colab": {
          "base_uri": "https://localhost:8080/",
          "height": 320
        }
      },
      "source": [
        "from keras.datasets import mnist\n",
        "import matplotlib.pyplot as plt\n",
        "# load (downloaded if needed) the MNIST dataset\n",
        "(X_train, y_train), (X_test, y_test) = mnist.load_data()\n",
        "# plot 4 images as gray scale\n",
        "plt.subplot(221)\n",
        "plt.imshow(X_train[0], cmap=plt.get_cmap('gray'))\n",
        "plt.subplot(222)\n",
        "plt.imshow(X_train[1], cmap=plt.get_cmap('gray'))\n",
        "plt.subplot(223)\n",
        "plt.imshow(X_train[2], cmap=plt.get_cmap('gray'))\n",
        "plt.subplot(224)\n",
        "plt.imshow(X_train[3], cmap=plt.get_cmap('gray'))\n",
        "# show the plot\n",
        "\n",
        "plt.show()"
      ],
      "execution_count": 1,
      "outputs": [
        {
          "output_type": "stream",
          "text": [
            "Using TensorFlow backend.\n"
          ],
          "name": "stderr"
        },
        {
          "output_type": "stream",
          "text": [
            "Downloading data from https://s3.amazonaws.com/img-datasets/mnist.npz\n",
            "11493376/11490434 [==============================] - 1s 0us/step\n"
          ],
          "name": "stdout"
        },
        {
          "output_type": "display_data",
          "data": {
            "image/png": "[encoded data removed]",
            "text/plain": [
              "<Figure size 432x288 with 4 Axes>"
            ]
          },
          "metadata": {
            "tags": [],
            "needs_background": "light"
          }
        }
      ]
    },
    {
      "cell_type": "code",
      "metadata": {
        "id": "fP4p7t0p9IkI",
        "colab_type": "code",
        "colab": {}
      },
      "source": [
        "from tqdm import tqdm\n",
        "import os\n",
        "import numpy as np\n",
        "import cv2\n",
        "import torch\n",
        "import torch.nn as nn\n",
        "import torch.nn.functional as f\n",
        "from keras.utils import np_utils"
      ],
      "execution_count": 0,
      "outputs": []
    },
    {
      "cell_type": "code",
      "metadata": {
        "id": "0gjmr0J39lKO",
        "colab_type": "code",
        "colab": {}
      },
      "source": [
        "seed = 7\n",
        "np.random.seed(seed)"
      ],
      "execution_count": 0,
      "outputs": []
    },
    {
      "cell_type": "code",
      "metadata": {
        "id": "TWXlZKts9mzh",
        "colab_type": "code",
        "colab": {}
      },
      "source": [
        "#flatten 28*28 images to a 784 vector for each image\n",
        "num_pixels = X_train.shape[1] * X_train.shape[2]\n",
        "X_train = X_train.reshape(X_train.shape[0], num_pixels).astype('float32')\n",
        "X_test = X_test.reshape(X_test.shape[0], num_pixels).astype('float32')"
      ],
      "execution_count": 0,
      "outputs": []
    },
    {
      "cell_type": "code",
      "metadata": {
        "id": "bNY5a7hz9m7H",
        "colab_type": "code",
        "colab": {}
      },
      "source": [
        "# normalize inputs from 0-255 to 0-1\n",
        "X_train = X_train / 255\n",
        "X_train=torch.tensor(X_train).view(-1,num_pixels)\n",
        "X_test = X_test / 255\n",
        "X_test=torch.tensor(X_test)"
      ],
      "execution_count": 0,
      "outputs": []
    },
    {
      "cell_type": "code",
      "metadata": {
        "id": "GDGCfMm99m9r",
        "colab_type": "code",
        "colab": {}
      },
      "source": [
        "# one hot encode outputs\n",
        "y_train = np_utils.to_categorical(y_train)\n",
        "y_test = np_utils.to_categorical(y_test)\n",
        "num_classes = y_test.shape[1]"
      ],
      "execution_count": 0,
      "outputs": []
    },
    {
      "cell_type": "code",
      "metadata": {
        "id": "F9CFYHIJ9nBl",
        "colab_type": "code",
        "colab": {}
      },
      "source": [
        "class Net(nn.Module):\n",
        "    def __init__(self):\n",
        "        super().__init__()\n",
        "        \n",
        "        self.fc1=nn.Linear(num_pixels,num_pixels)\n",
        "        self.fc2=nn.Linear(num_pixels,num_classes)\n",
        "\n",
        "    def forward(self,x):\n",
        "\n",
        "        x=f.relu(self.fc1(x.view(-1,num_pixels)))\n",
        "        x=self.fc2(x)\n",
        "\n",
        "        return f.softmax(x,dim=1)"
      ],
      "execution_count": 0,
      "outputs": []
    },
    {
      "cell_type": "code",
      "metadata": {
        "id": "78UnUJLs9m5e",
        "colab_type": "code",
        "colab": {}
      },
      "source": [
        "net=Net()"
      ],
      "execution_count": 0,
      "outputs": []
    },
    {
      "cell_type": "code",
      "metadata": {
        "id": "0biB1hfv9m2_",
        "colab_type": "code",
        "outputId": "24902531-64ba-4035-ae90-2c3e8403a105",
        "colab": {
          "base_uri": "https://localhost:8080/",
          "height": 34
        }
      },
      "source": [
        "y_train[0]"
      ],
      "execution_count": 31,
      "outputs": [
        {
          "output_type": "execute_result",
          "data": {
            "text/plain": [
              "array([0., 0., 0., 0., 0., 1., 0., 0., 0., 0.], dtype=float32)"
            ]
          },
          "metadata": {
            "tags": []
          },
          "execution_count": 31
        }
      ]
    },
    {
      "cell_type": "code",
      "metadata": {
        "id": "HTtyGRflEcSF",
        "colab_type": "code",
        "outputId": "5864f62b-0bf6-4e8d-9c93-babd5da8d0c7",
        "colab": {
          "base_uri": "https://localhost:8080/",
          "height": 364
        }
      },
      "source": [
        "import torch.optim as optim\n",
        "optimizer=optim.Adam(net.parameters(),lr=0.001)\n",
        "batch=100\n",
        "epochs=10\n",
        "train_set_x=X_train\n",
        "train_set_y=torch.tensor(y_train)\n",
        "lossFunc=nn.MSELoss()\n",
        "for epoch in range(epochs):\n",
        "    for i in tqdm(range(0,len(X_train),batch)):\n",
        "        x=train_set_x[i:i+batch]\n",
        "        y=train_set_y[i:i+batch]\n",
        "        net.zero_grad()\n",
        "        output=net(x)\n",
        "        loss=lossFunc(output,y)\n",
        "        loss.backward()\n",
        "        optimizer.step()\n",
        "    print(loss)"
      ],
      "execution_count": 32,
      "outputs": [
        {
          "output_type": "stream",
          "text": [
            "100%|██████████| 600/600 [00:06<00:00, 96.75it/s]\n",
            "  2%|▏         | 11/600 [00:00<00:05, 100.27it/s]"
          ],
          "name": "stderr"
        },
        {
          "output_type": "stream",
          "text": [
            "tensor(0.0054, grad_fn=<MseLossBackward>)\n"
          ],
          "name": "stdout"
        },
        {
          "output_type": "stream",
          "text": [
            "100%|██████████| 600/600 [00:06<00:00, 88.85it/s]\n",
            "  2%|▏         | 9/600 [00:00<00:06, 86.80it/s]"
          ],
          "name": "stderr"
        },
        {
          "output_type": "stream",
          "text": [
            "tensor(0.0036, grad_fn=<MseLossBackward>)\n"
          ],
          "name": "stdout"
        },
        {
          "output_type": "stream",
          "text": [
            "100%|██████████| 600/600 [00:07<00:00, 85.58it/s]\n",
            "  1%|▏         | 8/600 [00:00<00:07, 78.23it/s]"
          ],
          "name": "stderr"
        },
        {
          "output_type": "stream",
          "text": [
            "tensor(0.0024, grad_fn=<MseLossBackward>)\n"
          ],
          "name": "stdout"
        },
        {
          "output_type": "stream",
          "text": [
            "100%|██████████| 600/600 [00:07<00:00, 85.16it/s]\n",
            "  2%|▏         | 9/600 [00:00<00:06, 87.10it/s]"
          ],
          "name": "stderr"
        },
        {
          "output_type": "stream",
          "text": [
            "tensor(0.0023, grad_fn=<MseLossBackward>)\n"
          ],
          "name": "stdout"
        },
        {
          "output_type": "stream",
          "text": [
            "100%|██████████| 600/600 [00:07<00:00, 84.24it/s]\n",
            "  2%|▏         | 9/600 [00:00<00:06, 86.47it/s]"
          ],
          "name": "stderr"
        },
        {
          "output_type": "stream",
          "text": [
            "tensor(0.0022, grad_fn=<MseLossBackward>)\n"
          ],
          "name": "stdout"
        },
        {
          "output_type": "stream",
          "text": [
            "100%|██████████| 600/600 [00:07<00:00, 83.32it/s]\n",
            "  2%|▏         | 9/600 [00:00<00:07, 81.72it/s]"
          ],
          "name": "stderr"
        },
        {
          "output_type": "stream",
          "text": [
            "tensor(0.0027, grad_fn=<MseLossBackward>)\n"
          ],
          "name": "stdout"
        },
        {
          "output_type": "stream",
          "text": [
            "100%|██████████| 600/600 [00:07<00:00, 81.68it/s]\n",
            "  2%|▏         | 9/600 [00:00<00:07, 80.82it/s]"
          ],
          "name": "stderr"
        },
        {
          "output_type": "stream",
          "text": [
            "tensor(0.0031, grad_fn=<MseLossBackward>)\n"
          ],
          "name": "stdout"
        },
        {
          "output_type": "stream",
          "text": [
            "100%|██████████| 600/600 [00:07<00:00, 80.88it/s]\n",
            "  1%|▏         | 8/600 [00:00<00:07, 76.09it/s]"
          ],
          "name": "stderr"
        },
        {
          "output_type": "stream",
          "text": [
            "tensor(0.0022, grad_fn=<MseLossBackward>)\n"
          ],
          "name": "stdout"
        },
        {
          "output_type": "stream",
          "text": [
            "100%|██████████| 600/600 [00:07<00:00, 79.97it/s]\n",
            "  2%|▏         | 9/600 [00:00<00:07, 81.55it/s]"
          ],
          "name": "stderr"
        },
        {
          "output_type": "stream",
          "text": [
            "tensor(0.0020, grad_fn=<MseLossBackward>)\n"
          ],
          "name": "stdout"
        },
        {
          "output_type": "stream",
          "text": [
            "100%|██████████| 600/600 [00:07<00:00, 78.96it/s]"
          ],
          "name": "stderr"
        },
        {
          "output_type": "stream",
          "text": [
            "tensor(0.0021, grad_fn=<MseLossBackward>)\n"
          ],
          "name": "stdout"
        },
        {
          "output_type": "stream",
          "text": [
            "\n"
          ],
          "name": "stderr"
        }
      ]
    },
    {
      "cell_type": "code",
      "metadata": {
        "id": "Efbjd-exEhQw",
        "colab_type": "code",
        "outputId": "bed7e77a-4de0-46ad-9c1d-0504725277ad",
        "colab": {
          "base_uri": "https://localhost:8080/",
          "height": 34
        }
      },
      "source": [
        "# train_set_y[0]"
      ],
      "execution_count": 26,
      "outputs": [
        {
          "output_type": "execute_result",
          "data": {
            "text/plain": [
              "tensor([0., 0., 0., 0., 0., 1., 0., 0., 0., 0.])"
            ]
          },
          "metadata": {
            "tags": []
          },
          "execution_count": 26
        }
      ]
    },
    {
      "cell_type": "code",
      "metadata": {
        "id": "Erlg36YeFt3S",
        "colab_type": "code",
        "outputId": "cb3f0ec1-3884-4e10-af91-feb8a66a6efe",
        "colab": {
          "base_uri": "https://localhost:8080/",
          "height": 34
        }
      },
      "source": [
        "# y[0]"
      ],
      "execution_count": 27,
      "outputs": [
        {
          "output_type": "execute_result",
          "data": {
            "text/plain": [
              "tensor([0., 0., 0., 0., 1., 0., 0., 0., 0., 0.])"
            ]
          },
          "metadata": {
            "tags": []
          },
          "execution_count": 27
        }
      ]
    },
    {
      "cell_type": "code",
      "metadata": {
        "id": "Y0SaJm3IIPZX",
        "colab_type": "code",
        "outputId": "0d061b42-df13-44f0-e25e-f0bcd7b6d6a2",
        "colab": {
          "base_uri": "https://localhost:8080/",
          "height": 52
        }
      },
      "source": [
        "# output[0]"
      ],
      "execution_count": 28,
      "outputs": [
        {
          "output_type": "execute_result",
          "data": {
            "text/plain": [
              "tensor([0.1000, 0.1000, 0.1000, 0.1000, 0.1000, 0.1000, 0.1000, 0.1000, 0.1000,\n",
              "        0.1000], grad_fn=<SelectBackward>)"
            ]
          },
          "metadata": {
            "tags": []
          },
          "execution_count": 28
        }
      ]
    },
    {
      "cell_type": "code",
      "metadata": {
        "id": "zuouKK9gVM8M",
        "colab_type": "code",
        "colab": {
          "base_uri": "https://localhost:8080/",
          "height": 337
        },
        "outputId": "a133e9d9-760d-48ed-ab38-27858f025311"
      },
      "source": [
        "plt.subplot(221)\n",
        "plt.imshow(X_train[0].view(28,28), cmap=plt.get_cmap('gray'))\n",
        "plt.subplot(222)\n",
        "plt.imshow(X_train[1].view(28,28), cmap=plt.get_cmap('gray'))\n",
        "plt.subplot(223)\n",
        "plt.imshow(X_train[2].view(28,28), cmap=plt.get_cmap('gray'))\n",
        "plt.subplot(224)\n",
        "plt.imshow(X_train[3].view(28,28), cmap=plt.get_cmap('gray'))\n",
        "# show the plot\n",
        "\n",
        "plt.show()\n",
        "predictions=net(X_train[:4])\n",
        "for i in range(4):\n",
        "    print(predictions[i].argmax())"
      ],
      "execution_count": 43,
      "outputs": [
        {
          "output_type": "display_data",
          "data": {
            "image/png": "[encoded data removed]",
            "text/plain": [
              "<Figure size 432x288 with 4 Axes>"
            ]
          },
          "metadata": {
            "tags": [],
            "needs_background": "light"
          }
        },
        {
          "output_type": "stream",
          "text": [
            "tensor(5)\n",
            "tensor(0)\n",
            "tensor(4)\n",
            "tensor(1)\n"
          ],
          "name": "stdout"
        }
      ]
    },
    {
      "cell_type": "code",
      "metadata": {
        "id": "7Zo3ny0pYU0E",
        "colab_type": "code",
        "colab": {
          "base_uri": "https://localhost:8080/",
          "height": 69
        },
        "outputId": "6c028d06-ebef-4b2a-b951-1beeae96154b"
      },
      "source": [
        "n=len(y_test)\n",
        "cor=0\n",
        "for i in tqdm(range(0,n,100)):\n",
        "    x=X_test[i:i+100]\n",
        "    y=y_test[i:i+100]\n",
        "    output_test=net(x)\n",
        "    for l in range(len(y)):\n",
        "        if (y[l].argmax())==(output_test[l].argmax()):\n",
        "            cor+=1\n",
        "print(\"\\naccuracy=\",cor/n)\n"
      ],
      "execution_count": 49,
      "outputs": [
        {
          "output_type": "stream",
          "text": [
            "100%|██████████| 100/100 [00:00<00:00, 162.65it/s]"
          ],
          "name": "stderr"
        },
        {
          "output_type": "stream",
          "text": [
            "\n",
            "accuracy= 0.9763\n"
          ],
          "name": "stdout"
        },
        {
          "output_type": "stream",
          "text": [
            "\n"
          ],
          "name": "stderr"
        }
      ]
    },
    {
      "cell_type": "code",
      "metadata": {
        "id": "n46OWglcat45",
        "colab_type": "code",
        "colab": {}
      },
      "source": [
        ""
      ],
      "execution_count": 0,
      "outputs": []
    },
    {
      "cell_type": "code",
      "metadata": {
        "id": "UBsR9xiYbC3A",
        "colab_type": "code",
        "colab": {}
      },
      "source": [
        ""
      ],
      "execution_count": 0,
      "outputs": []
    },
    {
      "cell_type": "code",
      "metadata": {
        "id": "fit0lAZybC5p",
        "colab_type": "code",
        "colab": {}
      },
      "source": [
        ""
      ],
      "execution_count": 0,
      "outputs": []
    },
    {
      "cell_type": "code",
      "metadata": {
        "id": "qEv9FDl1bC8K",
        "colab_type": "code",
        "colab": {}
      },
      "source": [
        ""
      ],
      "execution_count": 0,
      "outputs": []
    },
    {
      "cell_type": "code",
      "metadata": {
        "id": "Cu33f6UBbC-g",
        "colab_type": "code",
        "colab": {}
      },
      "source": [
        ""
      ],
      "execution_count": 0,
      "outputs": []
    },
    {
      "cell_type": "code",
      "metadata": {
        "id": "iocg58DobDBP",
        "colab_type": "code",
        "colab": {}
      },
      "source": [
        ""
      ],
      "execution_count": 0,
      "outputs": []
    },
    {
      "cell_type": "code",
      "metadata": {
        "id": "QCILScDebDDr",
        "colab_type": "code",
        "colab": {}
      },
      "source": [
        ""
      ],
      "execution_count": 0,
      "outputs": []
    },
    {
      "cell_type": "code",
      "metadata": {
        "id": "CHAmvqTobDHh",
        "colab_type": "code",
        "colab": {}
      },
      "source": [
        ""
      ],
      "execution_count": 0,
      "outputs": []
    },
    {
      "cell_type": "markdown",
      "metadata": {
        "id": "xgSmtVJ6bI7h",
        "colab_type": "text"
      },
      "source": [
        "# **CNN on MNIST**"
      ]
    },
    {
      "cell_type": "code",
      "metadata": {
        "id": "nYD4ZRKWbYwE",
        "colab_type": "code",
        "colab": {}
      },
      "source": [
        "class cnn_Net(nn.Module):\n",
        "\n",
        "    def __init__(self):\n",
        "        super().__init__()\n",
        "        self.conv1=nn.Conv2d(1,32,5)\n",
        "        self.flat=0\n",
        "        x=torch.randn(28,28).view(1,-1,28,28)\n",
        "        self.flatten(x)\n",
        "        self.fc1=nn.Linear(self.flat,128)\n",
        "        self.fc2=nn.Linear(128,num_classes)\n",
        "\n",
        "    def flatten(self,x):\n",
        "        if(self.flat==0):\n",
        "            x=f.dropout(f.max_pool2d(self.conv1(x),(2,2)))\n",
        "            print(x.size())\n",
        "            self.flat=x[0].shape[0]*x[0].shape[1]*x[0].shape[2]\n",
        "        print(self.flat)\n",
        "        \n",
        "    def forward(self,x):\n",
        "        x=f.dropout(f.max_pool2d(f.relu(self.conv1(x)),(2,2)),p=0.2)\n",
        "        x=f.relu(self.fc1(x.view(-1,self.flat)))\n",
        "        x=self.fc2(x)\n",
        "        return f.softmax(x,dim=1)\n"
      ],
      "execution_count": 0,
      "outputs": []
    },
    {
      "cell_type": "code",
      "metadata": {
        "id": "F2l5qmWRfVXq",
        "colab_type": "code",
        "colab": {
          "base_uri": "https://localhost:8080/",
          "height": 52
        },
        "outputId": "a644222a-c5eb-4cda-a204-af614b8a1bd5"
      },
      "source": [
        "net=cnn_Net()"
      ],
      "execution_count": 58,
      "outputs": [
        {
          "output_type": "stream",
          "text": [
            "torch.Size([1, 32, 12, 12])\n",
            "4608\n"
          ],
          "name": "stdout"
        }
      ]
    },
    {
      "cell_type": "code",
      "metadata": {
        "id": "3XkZUZmGfbbi",
        "colab_type": "code",
        "colab": {
          "base_uri": "https://localhost:8080/",
          "height": 364
        },
        "outputId": "21e748a9-f505-4966-cad9-92a520aa9429"
      },
      "source": [
        "import torch.optim as optim\n",
        "optimizer=optim.Adam(net.parameters(),lr=0.001)\n",
        "batch=100\n",
        "epochs=10\n",
        "train_set_x=X_train.view(-1,1,28,28)\n",
        "train_set_y=torch.tensor(y_train)\n",
        "lossFunc=nn.MSELoss()\n",
        "for epoch in range(epochs):\n",
        "    for i in tqdm(range(0,len(X_train),batch)):\n",
        "        x=train_set_x[i:i+batch]\n",
        "        y=train_set_y[i:i+batch]\n",
        "        net.zero_grad()\n",
        "        output=net(x)\n",
        "        loss=lossFunc(output,y)\n",
        "        loss.backward()\n",
        "        optimizer.step()\n",
        "    print(loss)"
      ],
      "execution_count": 60,
      "outputs": [
        {
          "output_type": "stream",
          "text": [
            "100%|██████████| 600/600 [00:31<00:00, 19.13it/s]\n",
            "  0%|          | 2/600 [00:00<00:31, 19.24it/s]"
          ],
          "name": "stderr"
        },
        {
          "output_type": "stream",
          "text": [
            "tensor(0.0032, grad_fn=<MseLossBackward>)\n"
          ],
          "name": "stdout"
        },
        {
          "output_type": "stream",
          "text": [
            "100%|██████████| 600/600 [00:32<00:00, 18.27it/s]\n",
            "  0%|          | 2/600 [00:00<00:31, 18.89it/s]"
          ],
          "name": "stderr"
        },
        {
          "output_type": "stream",
          "text": [
            "tensor(0.0028, grad_fn=<MseLossBackward>)\n"
          ],
          "name": "stdout"
        },
        {
          "output_type": "stream",
          "text": [
            "100%|██████████| 600/600 [00:32<00:00, 18.35it/s]\n",
            "  0%|          | 2/600 [00:00<00:32, 18.60it/s]"
          ],
          "name": "stderr"
        },
        {
          "output_type": "stream",
          "text": [
            "tensor(0.0028, grad_fn=<MseLossBackward>)\n"
          ],
          "name": "stdout"
        },
        {
          "output_type": "stream",
          "text": [
            "100%|██████████| 600/600 [00:32<00:00, 18.42it/s]\n",
            "  0%|          | 2/600 [00:00<00:33, 18.02it/s]"
          ],
          "name": "stderr"
        },
        {
          "output_type": "stream",
          "text": [
            "tensor(0.0024, grad_fn=<MseLossBackward>)\n"
          ],
          "name": "stdout"
        },
        {
          "output_type": "stream",
          "text": [
            "100%|██████████| 600/600 [00:32<00:00, 18.51it/s]\n",
            "  0%|          | 2/600 [00:00<00:34, 17.37it/s]"
          ],
          "name": "stderr"
        },
        {
          "output_type": "stream",
          "text": [
            "tensor(0.0023, grad_fn=<MseLossBackward>)\n"
          ],
          "name": "stdout"
        },
        {
          "output_type": "stream",
          "text": [
            "100%|██████████| 600/600 [00:32<00:00, 18.45it/s]\n",
            "  0%|          | 2/600 [00:00<00:31, 18.80it/s]"
          ],
          "name": "stderr"
        },
        {
          "output_type": "stream",
          "text": [
            "tensor(0.0020, grad_fn=<MseLossBackward>)\n"
          ],
          "name": "stdout"
        },
        {
          "output_type": "stream",
          "text": [
            "100%|██████████| 600/600 [00:32<00:00, 18.50it/s]\n",
            "  0%|          | 2/600 [00:00<00:31, 18.89it/s]"
          ],
          "name": "stderr"
        },
        {
          "output_type": "stream",
          "text": [
            "tensor(0.0020, grad_fn=<MseLossBackward>)\n"
          ],
          "name": "stdout"
        },
        {
          "output_type": "stream",
          "text": [
            "100%|██████████| 600/600 [00:32<00:00, 18.68it/s]\n",
            "  0%|          | 2/600 [00:00<00:31, 19.01it/s]"
          ],
          "name": "stderr"
        },
        {
          "output_type": "stream",
          "text": [
            "tensor(0.0020, grad_fn=<MseLossBackward>)\n"
          ],
          "name": "stdout"
        },
        {
          "output_type": "stream",
          "text": [
            "100%|██████████| 600/600 [00:32<00:00, 18.55it/s]\n",
            "  0%|          | 2/600 [00:00<00:31, 18.90it/s]"
          ],
          "name": "stderr"
        },
        {
          "output_type": "stream",
          "text": [
            "tensor(0.0024, grad_fn=<MseLossBackward>)\n"
          ],
          "name": "stdout"
        },
        {
          "output_type": "stream",
          "text": [
            "100%|██████████| 600/600 [00:32<00:00, 18.69it/s]"
          ],
          "name": "stderr"
        },
        {
          "output_type": "stream",
          "text": [
            "tensor(0.0020, grad_fn=<MseLossBackward>)\n"
          ],
          "name": "stdout"
        },
        {
          "output_type": "stream",
          "text": [
            "\n"
          ],
          "name": "stderr"
        }
      ]
    },
    {
      "cell_type": "code",
      "metadata": {
        "id": "xtrqRnoUgBBy",
        "colab_type": "code",
        "colab": {
          "base_uri": "https://localhost:8080/",
          "height": 69
        },
        "outputId": "aaf40e68-bf6a-4cd9-b034-0fca732e1bc4"
      },
      "source": [
        "n=len(y_test)\n",
        "cor=0\n",
        "for i in tqdm(range(0,n,100)):\n",
        "    x=X_test[i:i+100]\n",
        "    y=y_test[i:i+100]\n",
        "    output_test=net(x.view(-1,1,28,28))\n",
        "    for l in range(len(y)):\n",
        "        if (y[l].argmax())==(output_test[l].argmax()):\n",
        "            cor+=1\n",
        "print(\"\\naccuracy=\",cor/n)\n"
      ],
      "execution_count": 61,
      "outputs": [
        {
          "output_type": "stream",
          "text": [
            "100%|██████████| 100/100 [00:02<00:00, 46.85it/s]"
          ],
          "name": "stderr"
        },
        {
          "output_type": "stream",
          "text": [
            "\n",
            "accuracy= 0.9877\n"
          ],
          "name": "stdout"
        },
        {
          "output_type": "stream",
          "text": [
            "\n"
          ],
          "name": "stderr"
        }
      ]
    },
    {
      "cell_type": "code",
      "metadata": {
        "id": "c98Zuxg2gYeW",
        "colab_type": "code",
        "colab": {}
      },
      "source": [
        ""
      ],
      "execution_count": 0,
      "outputs": []
    },
    {
      "cell_type": "code",
      "metadata": {
        "id": "umUJlPKDghYB",
        "colab_type": "code",
        "colab": {}
      },
      "source": [
        ""
      ],
      "execution_count": 0,
      "outputs": []
    },
    {
      "cell_type": "code",
      "metadata": {
        "id": "Re0MftiKgha5",
        "colab_type": "code",
        "colab": {}
      },
      "source": [
        ""
      ],
      "execution_count": 0,
      "outputs": []
    },
    {
      "cell_type": "code",
      "metadata": {
        "id": "JLraheyWghdy",
        "colab_type": "code",
        "colab": {}
      },
      "source": [
        ""
      ],
      "execution_count": 0,
      "outputs": []
    },
    {
      "cell_type": "code",
      "metadata": {
        "id": "T0UgOihaghfy",
        "colab_type": "code",
        "colab": {}
      },
      "source": [
        ""
      ],
      "execution_count": 0,
      "outputs": []
    },
    {
      "cell_type": "code",
      "metadata": {
        "id": "eWqov2IYghiX",
        "colab_type": "code",
        "colab": {}
      },
      "source": [
        ""
      ],
      "execution_count": 0,
      "outputs": []
    },
    {
      "cell_type": "code",
      "metadata": {
        "id": "gRFqoPanghmy",
        "colab_type": "code",
        "colab": {}
      },
      "source": [
        ""
      ],
      "execution_count": 0,
      "outputs": []
    },
    {
      "cell_type": "markdown",
      "metadata": {
        "id": "ZyzPpomqggrW",
        "colab_type": "text"
      },
      "source": [
        "# **CNN 2 for MNIST**\n"
      ]
    },
    {
      "cell_type": "code",
      "metadata": {
        "id": "aJPxRHDCg0BM",
        "colab_type": "code",
        "colab": {}
      },
      "source": [
        "class cnn2_Net(nn.Module):\n",
        "\n",
        "    def __init__(self):\n",
        "        super().__init__()\n",
        "        self.conv1=nn.Conv2d(1,30,5)\n",
        "        self.conv2=nn.Conv2d(30,15,3)\n",
        "        self.flat=0\n",
        "        x=torch.randn(28,28).view(1,-1,28,28)\n",
        "        self.flatten(x)\n",
        "        self.fc1=nn.Linear(self.flat,128)\n",
        "        self.fc2=nn.Linear(128,50)\n",
        "        self.fc3=nn.Linear(50,num_classes)\n",
        "\n",
        "    def flatten(self,x):\n",
        "        if(self.flat==0):\n",
        "            x=(f.max_pool2d(self.conv1(x),(2,2)))\n",
        "            x=f.dropout(f.max_pool2d(self.conv2(x),(2,2)),p=0.2)\n",
        "            print(x.size())\n",
        "            self.flat=x[0].shape[0]*x[0].shape[1]*x[0].shape[2]\n",
        "        print(self.flat)\n",
        "        \n",
        "    def forward(self,x):\n",
        "        x=(f.max_pool2d(f.relu(self.conv1(x)),(2,2)))\n",
        "        x=f.dropout(f.max_pool2d(f.relu(self.conv2(x)),(2,2)),p=0.2)\n",
        "        x=f.relu(self.fc1(x.view(-1,self.flat)))\n",
        "\n",
        "        x=f.relu(self.fc2(x))\n",
        "        x=self.fc3(x)\n",
        "        return f.softmax(x,dim=1)"
      ],
      "execution_count": 0,
      "outputs": []
    },
    {
      "cell_type": "code",
      "metadata": {
        "id": "fKz8mPZmg3Qk",
        "colab_type": "code",
        "colab": {
          "base_uri": "https://localhost:8080/",
          "height": 52
        },
        "outputId": "6f6faf4a-7070-486a-f1a8-cf4f588114e0"
      },
      "source": [
        "net=cnn2_Net()"
      ],
      "execution_count": 68,
      "outputs": [
        {
          "output_type": "stream",
          "text": [
            "torch.Size([1, 15, 5, 5])\n",
            "375\n"
          ],
          "name": "stdout"
        }
      ]
    },
    {
      "cell_type": "code",
      "metadata": {
        "id": "xSDWOIUyiBsH",
        "colab_type": "code",
        "colab": {
          "base_uri": "https://localhost:8080/",
          "height": 364
        },
        "outputId": "619d257e-fafb-4a45-8c76-322987ffba3a"
      },
      "source": [
        "import torch.optim as optim\n",
        "optimizer=optim.Adam(net.parameters(),lr=0.001)\n",
        "batch=100\n",
        "epochs=10\n",
        "train_set_x=X_train.view(-1,1,28,28)\n",
        "train_set_y=torch.tensor(y_train)\n",
        "lossFunc=nn.MSELoss()\n",
        "for epoch in range(epochs):\n",
        "    for i in tqdm(range(0,len(X_train),batch)):\n",
        "        x=train_set_x[i:i+batch]\n",
        "        y=train_set_y[i:i+batch]\n",
        "        net.zero_grad()\n",
        "        output=net(x)\n",
        "        loss=lossFunc(output,y)\n",
        "        loss.backward()\n",
        "        optimizer.step()\n",
        "    print(\"\\n\"loss)"
      ],
      "execution_count": 69,
      "outputs": [
        {
          "output_type": "stream",
          "text": [
            "100%|██████████| 600/600 [00:34<00:00, 17.64it/s]\n",
            "  0%|          | 2/600 [00:00<00:32, 18.37it/s]"
          ],
          "name": "stderr"
        },
        {
          "output_type": "stream",
          "text": [
            "tensor(0.0050, grad_fn=<MseLossBackward>)\n"
          ],
          "name": "stdout"
        },
        {
          "output_type": "stream",
          "text": [
            "100%|██████████| 600/600 [00:33<00:00, 18.06it/s]\n",
            "  0%|          | 2/600 [00:00<00:32, 18.17it/s]"
          ],
          "name": "stderr"
        },
        {
          "output_type": "stream",
          "text": [
            "tensor(0.0037, grad_fn=<MseLossBackward>)\n"
          ],
          "name": "stdout"
        },
        {
          "output_type": "stream",
          "text": [
            "100%|██████████| 600/600 [00:33<00:00, 18.06it/s]\n",
            "  0%|          | 2/600 [00:00<00:32, 18.35it/s]"
          ],
          "name": "stderr"
        },
        {
          "output_type": "stream",
          "text": [
            "tensor(0.0027, grad_fn=<MseLossBackward>)\n"
          ],
          "name": "stdout"
        },
        {
          "output_type": "stream",
          "text": [
            "100%|██████████| 600/600 [00:33<00:00, 18.14it/s]\n",
            "  0%|          | 2/600 [00:00<00:33, 18.06it/s]"
          ],
          "name": "stderr"
        },
        {
          "output_type": "stream",
          "text": [
            "tensor(0.0031, grad_fn=<MseLossBackward>)\n"
          ],
          "name": "stdout"
        },
        {
          "output_type": "stream",
          "text": [
            "100%|██████████| 600/600 [00:32<00:00, 18.20it/s]\n",
            "  0%|          | 2/600 [00:00<00:32, 18.46it/s]"
          ],
          "name": "stderr"
        },
        {
          "output_type": "stream",
          "text": [
            "tensor(0.0027, grad_fn=<MseLossBackward>)\n"
          ],
          "name": "stdout"
        },
        {
          "output_type": "stream",
          "text": [
            "100%|██████████| 600/600 [00:33<00:00, 18.10it/s]\n",
            "  0%|          | 2/600 [00:00<00:31, 19.26it/s]"
          ],
          "name": "stderr"
        },
        {
          "output_type": "stream",
          "text": [
            "tensor(0.0021, grad_fn=<MseLossBackward>)\n"
          ],
          "name": "stdout"
        },
        {
          "output_type": "stream",
          "text": [
            "100%|██████████| 600/600 [00:33<00:00, 18.09it/s]\n",
            "  0%|          | 2/600 [00:00<00:34, 17.19it/s]"
          ],
          "name": "stderr"
        },
        {
          "output_type": "stream",
          "text": [
            "tensor(0.0020, grad_fn=<MseLossBackward>)\n"
          ],
          "name": "stdout"
        },
        {
          "output_type": "stream",
          "text": [
            "100%|██████████| 600/600 [00:32<00:00, 18.23it/s]\n",
            "  0%|          | 2/600 [00:00<00:31, 18.84it/s]"
          ],
          "name": "stderr"
        },
        {
          "output_type": "stream",
          "text": [
            "tensor(0.0032, grad_fn=<MseLossBackward>)\n"
          ],
          "name": "stdout"
        },
        {
          "output_type": "stream",
          "text": [
            "100%|██████████| 600/600 [00:32<00:00, 18.41it/s]\n",
            "  0%|          | 2/600 [00:00<00:31, 18.77it/s]"
          ],
          "name": "stderr"
        },
        {
          "output_type": "stream",
          "text": [
            "tensor(0.0020, grad_fn=<MseLossBackward>)\n"
          ],
          "name": "stdout"
        },
        {
          "output_type": "stream",
          "text": [
            "100%|██████████| 600/600 [00:32<00:00, 18.44it/s]"
          ],
          "name": "stderr"
        },
        {
          "output_type": "stream",
          "text": [
            "tensor(0.0023, grad_fn=<MseLossBackward>)\n"
          ],
          "name": "stdout"
        },
        {
          "output_type": "stream",
          "text": [
            "\n"
          ],
          "name": "stderr"
        }
      ]
    },
    {
      "cell_type": "code",
      "metadata": {
        "id": "ztSfkAnOgxNV",
        "colab_type": "code",
        "colab": {
          "base_uri": "https://localhost:8080/",
          "height": 69
        },
        "outputId": "db08e380-aa79-4732-d47a-c2238e96b46d"
      },
      "source": [
        "n=len(y_test)\n",
        "cor=0\n",
        "for i in tqdm(range(0,n,100)):\n",
        "    x=X_test[i:i+100]\n",
        "    y=y_test[i:i+100]\n",
        "    output_test=net(x.view(-1,1,28,28))\n",
        "    for l in range(len(y)):\n",
        "        if (y[l].argmax())==(output_test[l].argmax()):\n",
        "            cor+=1\n",
        "print(\"\\naccuracy=\",cor/n)\n"
      ],
      "execution_count": 71,
      "outputs": [
        {
          "output_type": "stream",
          "text": [
            "100%|██████████| 100/100 [00:02<00:00, 39.20it/s]"
          ],
          "name": "stderr"
        },
        {
          "output_type": "stream",
          "text": [
            "\n",
            "accuracy= 0.9875\n"
          ],
          "name": "stdout"
        },
        {
          "output_type": "stream",
          "text": [
            "\n"
          ],
          "name": "stderr"
        }
      ]
    },
    {
      "cell_type": "code",
      "metadata": {
        "id": "YtEbzfiKiFcb",
        "colab_type": "code",
        "colab": {}
      },
      "source": [
        ""
      ],
      "execution_count": 0,
      "outputs": []
    }
  ]
}