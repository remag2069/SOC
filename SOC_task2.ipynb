{
 "cells": [
  {
   "cell_type": "code",
   "execution_count": 1,
   "metadata": {
    "colab": {},
    "colab_type": "code",
    "id": "ggMxwfkTXtIn"
   },
   "outputs": [],
   "source": [
    "from tqdm import tqdm\n",
    "import os\n",
    "import numpy as np\n",
    "import cv2"
   ]
  },
  {
   "cell_type": "code",
   "execution_count": 2,
   "metadata": {
    "colab": {},
    "colab_type": "code",
    "id": "9WXWBrc4Zee_"
   },
   "outputs": [
    {
     "ename": "ImportError",
     "evalue": "No module named 'torch'",
     "output_type": "error",
     "traceback": [
      "\u001b[0;31m---------------------------------------------------------------------------\u001b[0m",
      "\u001b[0;31mImportError\u001b[0m                               Traceback (most recent call last)",
      "\u001b[0;32m<ipython-input-2-186c5add78e1>\u001b[0m in \u001b[0;36m<module>\u001b[0;34m\u001b[0m\n\u001b[0;32m----> 1\u001b[0;31m \u001b[0;32mimport\u001b[0m \u001b[0mtorch\u001b[0m\u001b[0;34m\u001b[0m\u001b[0m\n\u001b[0m\u001b[1;32m      2\u001b[0m \u001b[0;32mimport\u001b[0m \u001b[0mtorch\u001b[0m\u001b[0;34m.\u001b[0m\u001b[0mnn\u001b[0m \u001b[0;32mas\u001b[0m \u001b[0mnn\u001b[0m\u001b[0;34m\u001b[0m\u001b[0m\n\u001b[1;32m      3\u001b[0m \u001b[0;32mimport\u001b[0m \u001b[0mtorch\u001b[0m\u001b[0;34m.\u001b[0m\u001b[0mnn\u001b[0m\u001b[0;34m.\u001b[0m\u001b[0mfunctional\u001b[0m \u001b[0;32mas\u001b[0m \u001b[0mf\u001b[0m\u001b[0;34m\u001b[0m\u001b[0m\n",
      "\u001b[0;31mImportError\u001b[0m: No module named 'torch'"
     ]
    }
   ],
   "source": [
    "import torch\n",
    "import torch.nn as nn\n",
    "import torch.nn.functional as f\n"
   ]
  },
  {
   "cell_type": "code",
   "execution_count": 0,
   "metadata": {
    "colab": {},
    "colab_type": "code",
    "id": "Gwb4ZFf4ZkY3"
   },
   "outputs": [],
   "source": [
    "class Net(nn.Module):\n",
    "    def __init__(self,num_of_output=2):\n",
    "        super().__init__()\n",
    "        self.conv1=nn.Conv2d(1,96,11,stride=4)\n",
    "\n",
    "        self.conv2=nn.Conv2d(96,256,5,stride=1,padding=2)\n",
    "\n",
    "        self.conv3=nn.Conv2d(256,384,3,stride=1,padding=1)\n",
    "\n",
    "        self.conv4=nn.Conv2d(384,384,3,stride=1,padding=1)\n",
    "\n",
    "        self.conv5=nn.Conv2d(384,256,3,stride=1,padding=1)\n",
    "        \n",
    "        x=torch.randn(100,100).view(-1,1,100,100)\n",
    "\n",
    "        self.flat=0\n",
    "        \n",
    "        self.flatten(x)\n",
    "        \n",
    "        self.fc6=nn.Linear(self.flat,4096)\n",
    "        \n",
    "        self.fc7=nn.Linear(4096,4096)\n",
    "\n",
    "        self.fc8=nn.Linear(4096,1000)\n",
    "\n",
    "        self.fc9=nn.Linear(1000,num_of_output)\n",
    "\n",
    "        \n",
    "    def flatten(self,x):\n",
    "        if(self.flat==0):\n",
    "\n",
    "            x=f.max_pool2d(f.relu(self.conv1(x)),3,stride=2)\n",
    "\n",
    "\n",
    "            x=f.max_pool2d(f.relu(self.conv2(x)),3,stride=2)\n",
    "\n",
    "            x=f.relu(self.conv3(x))\n",
    "\n",
    "            x=f.relu(self.conv4(x))\n",
    "\n",
    "            x=f.max_pool2d(f.relu(self.conv5(x)),3,stride=2)\n",
    "\n",
    "            self.flat=x[0].shape[0]*x[0].shape[1]*x[0].shape[2]\n",
    "\n",
    "\n",
    "        \n",
    "    def forward(self,x):\n",
    "        x=f.max_pool2d(f.relu(self.conv1(x)),3,stride=2)\n",
    "\n",
    "        x=f.max_pool2d(f.relu(self.conv2(x)),3,stride=2)\n",
    "\n",
    "        x=f.relu(self.conv3(x))\n",
    "\n",
    "        x=f.relu(self.conv4(x))\n",
    "\n",
    "        x=f.max_pool2d(f.relu(self.conv5(x)),3,stride=2)\n",
    "\n",
    "        x=f.dropout(f.relu(self.fc6(x.view(-1,self.flat))))\n",
    "\n",
    "        x=f.dropout(f.relu(self.fc7(x)))\n",
    "\n",
    "        x=f.relu(self.fc8(x))\n",
    "\n",
    "        x=f.relu(self.fc9(x))\n",
    "\n",
    "        return f.softmax(x,dim=1)"
   ]
  },
  {
   "cell_type": "code",
   "execution_count": 41,
   "metadata": {
    "colab": {
     "base_uri": "https://localhost:8080/",
     "height": 121
    },
    "colab_type": "code",
    "id": "18WIHG2PZkbf",
    "outputId": "6949d06a-ba9d-4835-9c68-c9b256da4d01"
   },
   "outputs": [
    {
     "name": "stdout",
     "output_type": "stream",
     "text": [
      "torch.Size([1, 1, 100, 100])\n",
      "torch.Size([1, 96, 11, 11])\n",
      "torch.Size([1, 256, 5, 5])\n",
      "torch.Size([1, 384, 5, 5])\n",
      "torch.Size([1, 384, 5, 5])\n",
      "1024\n"
     ]
    }
   ],
   "source": [
    "net=Net()\n",
    "#enter the number of outputs as param"
   ]
  },
  {
   "cell_type": "code",
   "execution_count": 0,
   "metadata": {
    "colab": {},
    "colab_type": "code",
    "id": "4KV_OrUpZkd8"
   },
   "outputs": [],
   "source": [
    "x=torch.randn(100,100).view(-1,1,100,100)"
   ]
  },
  {
   "cell_type": "code",
   "execution_count": 0,
   "metadata": {
    "colab": {},
    "colab_type": "code",
    "id": "qZV2F2kDZkgW"
   },
   "outputs": [],
   "source": [
    "y=net.forward(x)"
   ]
  },
  {
   "cell_type": "code",
   "execution_count": 44,
   "metadata": {
    "colab": {
     "base_uri": "https://localhost:8080/",
     "height": 34
    },
    "colab_type": "code",
    "id": "OhFWroHOZki_",
    "outputId": "e1597932-f6a7-47c5-cae9-e66456da34a7"
   },
   "outputs": [
    {
     "data": {
      "text/plain": [
       "tensor([[0.4944, 0.5056]], grad_fn=<SoftmaxBackward>)"
      ]
     },
     "execution_count": 44,
     "metadata": {
      "tags": []
     },
     "output_type": "execute_result"
    }
   ],
   "source": [
    "y\n"
   ]
  },
  {
   "cell_type": "code",
   "execution_count": 0,
   "metadata": {
    "colab": {},
    "colab_type": "code",
    "id": "8akYO7EiZklW"
   },
   "outputs": [],
   "source": []
  },
  {
   "cell_type": "code",
   "execution_count": 0,
   "metadata": {
    "colab": {},
    "colab_type": "code",
    "id": "RshzXtSdZknm"
   },
   "outputs": [],
   "source": []
  },
  {
   "cell_type": "code",
   "execution_count": 0,
   "metadata": {
    "colab": {},
    "colab_type": "code",
    "id": "t4iSSoQ6ZkqF"
   },
   "outputs": [],
   "source": []
  },
  {
   "cell_type": "code",
   "execution_count": 0,
   "metadata": {
    "colab": {},
    "colab_type": "code",
    "id": "HnemL9InZksg"
   },
   "outputs": [],
   "source": []
  },
  {
   "cell_type": "code",
   "execution_count": 0,
   "metadata": {
    "colab": {},
    "colab_type": "code",
    "id": "-RZeBsdDZkvL"
   },
   "outputs": [],
   "source": []
  },
  {
   "cell_type": "code",
   "execution_count": 0,
   "metadata": {
    "colab": {},
    "colab_type": "code",
    "id": "1XCtV6V9Zkxt"
   },
   "outputs": [],
   "source": []
  },
  {
   "cell_type": "code",
   "execution_count": 0,
   "metadata": {
    "colab": {},
    "colab_type": "code",
    "id": "6L1wmftKZkzx"
   },
   "outputs": [],
   "source": []
  },
  {
   "cell_type": "code",
   "execution_count": 0,
   "metadata": {
    "colab": {},
    "colab_type": "code",
    "id": "yrk2LnAiZk4K"
   },
   "outputs": [],
   "source": []
  }
 ],
 "metadata": {
  "colab": {
   "name": "Untitled6.ipynb",
   "provenance": []
  },
  "kernelspec": {
   "display_name": "Python 3",
   "language": "python",
   "name": "python3"
  },
  "language_info": {
   "codemirror_mode": {
    "name": "ipython",
    "version": 3
   },
   "file_extension": ".py",
   "mimetype": "text/x-python",
   "name": "python",
   "nbconvert_exporter": "python",
   "pygments_lexer": "ipython3",
   "version": "3.5.2"
  }
 },
 "nbformat": 4,
 "nbformat_minor": 1
}
