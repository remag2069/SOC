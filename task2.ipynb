{
  "nbformat": 4,
  "nbformat_minor": 0,
  "metadata": {
    "colab": {
      "name": "Untitled6.ipynb",
      "provenance": []
    },
    "kernelspec": {
      "name": "python3",
      "display_name": "Python 3"
    }
  },
  "cells": [
    {
      "cell_type": "code",
      "metadata": {
        "id": "ggMxwfkTXtIn",
        "colab_type": "code",
        "colab": {}
      },
      "source": [
        "from tqdm import tqdm\n",
        "import os\n",
        "import numpy as np\n",
        "import cv2"
      ],
      "execution_count": 0,
      "outputs": []
    },
    {
      "cell_type": "code",
      "metadata": {
        "id": "9WXWBrc4Zee_",
        "colab_type": "code",
        "colab": {}
      },
      "source": [
        "import torch\n",
        "import torch.nn as nn\n",
        "import torch.nn.functional as f\n"
      ],
      "execution_count": 0,
      "outputs": []
    },
    {
      "cell_type": "code",
      "metadata": {
        "id": "Gwb4ZFf4ZkY3",
        "colab_type": "code",
        "colab": {}
      },
      "source": [
        "class Net(nn.Module):\n",
        "    def __init__(self,num_of_output=2):\n",
        "        super().__init__()\n",
        "        self.conv1=nn.Conv2d(1,96,11,stride=4)\n",
        "\n",
        "        self.conv2=nn.Conv2d(96,256,5,stride=1,padding=2)\n",
        "\n",
        "        self.conv3=nn.Conv2d(256,384,3,stride=1,padding=1)\n",
        "\n",
        "        self.conv4=nn.Conv2d(384,384,3,stride=1,padding=1)\n",
        "\n",
        "        self.conv5=nn.Conv2d(384,256,3,stride=1,padding=1)\n",
        "        \n",
        "        x=torch.randn(100,100).view(-1,1,100,100)\n",
        "\n",
        "        self.flat=0\n",
        "        \n",
        "        self.flatten(x)\n",
        "        \n",
        "        self.fc6=nn.Linear(self.flat,4096)\n",
        "        \n",
        "        self.fc7=nn.Linear(4096,4096)\n",
        "\n",
        "        self.fc8=nn.Linear(4096,1000)\n",
        "\n",
        "        self.fc9=nn.Linear(1000,num_of_output)\n",
        "\n",
        "        \n",
        "    def flatten(self,x):\n",
        "        if(self.flat==0):\n",
        "\n",
        "            x=f.max_pool2d(f.relu(self.conv1(x)),3,stride=2)\n",
        "\n",
        "\n",
        "            x=f.max_pool2d(f.relu(self.conv2(x)),3,stride=2)\n",
        "\n",
        "            x=f.relu(self.conv3(x))\n",
        "\n",
        "            x=f.relu(self.conv4(x))\n",
        "\n",
        "            x=f.max_pool2d(f.relu(self.conv5(x)),3,stride=2)\n",
        "\n",
        "            self.flat=x[0].shape[0]*x[0].shape[1]*x[0].shape[2]\n",
        "\n",
        "\n",
        "        \n",
        "    def forward(self,x):\n",
        "        x=f.max_pool2d(f.relu(self.conv1(x)),3,stride=2)\n",
        "\n",
        "        x=f.max_pool2d(f.relu(self.conv2(x)),3,stride=2)\n",
        "\n",
        "        x=f.relu(self.conv3(x))\n",
        "\n",
        "        x=f.relu(self.conv4(x))\n",
        "\n",
        "        x=f.max_pool2d(f.relu(self.conv5(x)),3,stride=2)\n",
        "\n",
        "        x=f.dropout(f.relu(self.fc6(x.view(-1,self.flat))))\n",
        "\n",
        "        x=f.dropout(f.relu(self.fc7(x)))\n",
        "\n",
        "        x=f.relu(self.fc8(x))\n",
        "\n",
        "        x=f.relu(self.fc9(x))\n",
        "\n",
        "        return f.softmax(x,dim=1)"
      ],
      "execution_count": 0,
      "outputs": []
    },
    {
      "cell_type": "code",
      "metadata": {
        "id": "18WIHG2PZkbf",
        "colab_type": "code",
        "colab": {
          "base_uri": "https://localhost:8080/",
          "height": 121
        },
        "outputId": "6949d06a-ba9d-4835-9c68-c9b256da4d01"
      },
      "source": [
        "net=Net()\n",
        "#enter the number of outputs as param"
      ],
      "execution_count": 41,
      "outputs": [
        {
          "output_type": "stream",
          "text": [
            "torch.Size([1, 1, 100, 100])\n",
            "torch.Size([1, 96, 11, 11])\n",
            "torch.Size([1, 256, 5, 5])\n",
            "torch.Size([1, 384, 5, 5])\n",
            "torch.Size([1, 384, 5, 5])\n",
            "1024\n"
          ],
          "name": "stdout"
        }
      ]
    },
    {
      "cell_type": "code",
      "metadata": {
        "id": "4KV_OrUpZkd8",
        "colab_type": "code",
        "colab": {}
      },
      "source": [
        "x=torch.randn(100,100).view(-1,1,100,100)"
      ],
      "execution_count": 0,
      "outputs": []
    },
    {
      "cell_type": "code",
      "metadata": {
        "id": "qZV2F2kDZkgW",
        "colab_type": "code",
        "colab": {}
      },
      "source": [
        "y=net.forward(x)"
      ],
      "execution_count": 0,
      "outputs": []
    },
    {
      "cell_type": "code",
      "metadata": {
        "id": "OhFWroHOZki_",
        "colab_type": "code",
        "colab": {
          "base_uri": "https://localhost:8080/",
          "height": 34
        },
        "outputId": "e1597932-f6a7-47c5-cae9-e66456da34a7"
      },
      "source": [
        "y\n"
      ],
      "execution_count": 44,
      "outputs": [
        {
          "output_type": "execute_result",
          "data": {
            "text/plain": [
              "tensor([[0.4944, 0.5056]], grad_fn=<SoftmaxBackward>)"
            ]
          },
          "metadata": {
            "tags": []
          },
          "execution_count": 44
        }
      ]
    },
    {
      "cell_type": "code",
      "metadata": {
        "id": "8akYO7EiZklW",
        "colab_type": "code",
        "colab": {}
      },
      "source": [
        ""
      ],
      "execution_count": 0,
      "outputs": []
    },
    {
      "cell_type": "code",
      "metadata": {
        "id": "RshzXtSdZknm",
        "colab_type": "code",
        "colab": {}
      },
      "source": [
        ""
      ],
      "execution_count": 0,
      "outputs": []
    },
    {
      "cell_type": "code",
      "metadata": {
        "id": "t4iSSoQ6ZkqF",
        "colab_type": "code",
        "colab": {}
      },
      "source": [
        ""
      ],
      "execution_count": 0,
      "outputs": []
    },
    {
      "cell_type": "code",
      "metadata": {
        "id": "HnemL9InZksg",
        "colab_type": "code",
        "colab": {}
      },
      "source": [
        ""
      ],
      "execution_count": 0,
      "outputs": []
    },
    {
      "cell_type": "code",
      "metadata": {
        "id": "-RZeBsdDZkvL",
        "colab_type": "code",
        "colab": {}
      },
      "source": [
        ""
      ],
      "execution_count": 0,
      "outputs": []
    },
    {
      "cell_type": "code",
      "metadata": {
        "id": "1XCtV6V9Zkxt",
        "colab_type": "code",
        "colab": {}
      },
      "source": [
        ""
      ],
      "execution_count": 0,
      "outputs": []
    },
    {
      "cell_type": "code",
      "metadata": {
        "id": "6L1wmftKZkzx",
        "colab_type": "code",
        "colab": {}
      },
      "source": [
        ""
      ],
      "execution_count": 0,
      "outputs": []
    },
    {
      "cell_type": "code",
      "metadata": {
        "id": "yrk2LnAiZk4K",
        "colab_type": "code",
        "colab": {}
      },
      "source": [
        ""
      ],
      "execution_count": 0,
      "outputs": []
    }
  ]
}
